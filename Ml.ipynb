{
  "nbformat": 4,
  "nbformat_minor": 0,
  "metadata": {
    "colab": {
      "name": "Ml.ipynb",
      "provenance": [],
      "collapsed_sections": [],
      "mount_file_id": "1dYlWiXMawOuHTL4GPHUnReBfbyZtoeXU",
      "authorship_tag": "ABX9TyNWuhLqB7tH9DW01VvsD8HK",
      "include_colab_link": true
    },
    "kernelspec": {
      "name": "python3",
      "display_name": "Python 3"
    }
  },
  "cells": [
    {
      "cell_type": "markdown",
      "metadata": {
        "id": "view-in-github",
        "colab_type": "text"
      },
      "source": [
        "<a href=\"https://colab.research.google.com/github/sudarshank1999/MLminiproj/blob/master/Ml.ipynb\" target=\"_parent\"><img src=\"https://colab.research.google.com/assets/colab-badge.svg\" alt=\"Open In Colab\"/></a>"
      ]
    },
    {
      "cell_type": "code",
      "metadata": {
        "id": "8YB17FfIgh6f",
        "colab_type": "code",
        "colab": {
          "base_uri": "https://localhost:8080/",
          "height": 104
        },
        "outputId": "ffcf14e6-a407-4caa-f317-f2d82b2b6bda"
      },
      "source": [
        "!pip install bing-image-downloader"
      ],
      "execution_count": null,
      "outputs": [
        {
          "output_type": "stream",
          "text": [
            "Collecting bing-image-downloader\n",
            "  Downloading https://files.pythonhosted.org/packages/0d/bf/537a61030b84ae4cd5022d5c7b014fd9bc3ce7c02358919153a6658a61d3/bing_image_downloader-1.0.4-py3-none-any.whl\n",
            "Installing collected packages: bing-image-downloader\n",
            "Successfully installed bing-image-downloader-1.0.4\n"
          ],
          "name": "stdout"
        }
      ]
    },
    {
      "cell_type": "code",
      "metadata": {
        "id": "Y93_BoeKg9Fp",
        "colab_type": "code",
        "colab": {
          "base_uri": "https://localhost:8080/",
          "height": 185
        },
        "outputId": "ceca8748-0e8b-4720-bac7-aec8c7ed5285"
      },
      "source": [
        "!ls"
      ],
      "execution_count": null,
      "outputs": [
        {
          "output_type": "stream",
          "text": [
            " Classroom\t\t\t'queuelist (1).gdoc'\n",
            " dash.gdoc\t\t\t queuelist.gdoc\n",
            " dashu1.docx\t\t\t Screenshot_20200709-004447.png\n",
            "'DBMS MANUAL-2018(Edited).doc'\t SmartKnower\n",
            " freshrs\t\t\t stacklist1-1.gdoc\n",
            "'FRONT PAGE.gdoc'\t\t'VID-20200721-WA0016 (1).mp4'\n",
            "'House warming '\t\t'VID-20200721-WA0016 (2).mp4'\n",
            " IMG-20180219-WA0000.jpg\t'VID-20200721-WA0016 (3).mp4'\n",
            " Ml.ipynb\t\t\t VID-20200721-WA0016.mp4\n",
            "'Pet resume.gdoc'\t\t'VTU Result.pdf'\n"
          ],
          "name": "stdout"
        }
      ]
    },
    {
      "cell_type": "code",
      "metadata": {
        "id": "RxsfG385hCU9",
        "colab_type": "code",
        "colab": {
          "base_uri": "https://localhost:8080/",
          "height": 34
        },
        "outputId": "08d6bf0c-b766-46d1-a485-094423e349ed"
      },
      "source": [
        "cd /content/drive/My Drive"
      ],
      "execution_count": null,
      "outputs": [
        {
          "output_type": "stream",
          "text": [
            "/content/drive/My Drive\n"
          ],
          "name": "stdout"
        }
      ]
    },
    {
      "cell_type": "code",
      "metadata": {
        "id": "EB3Aek-rhK8E",
        "colab_type": "code",
        "colab": {}
      },
      "source": [
        "!mkdir images"
      ],
      "execution_count": null,
      "outputs": []
    },
    {
      "cell_type": "code",
      "metadata": {
        "id": "x81SHQelhPLK",
        "colab_type": "code",
        "colab": {
          "base_uri": "https://localhost:8080/",
          "height": 34
        },
        "outputId": "5a467c80-6210-447e-a632-b9b7f7ead7e7"
      },
      "source": [
        "cd images"
      ],
      "execution_count": null,
      "outputs": [
        {
          "output_type": "stream",
          "text": [
            "/content/drive/My Drive/images\n"
          ],
          "name": "stdout"
        }
      ]
    },
    {
      "cell_type": "code",
      "metadata": {
        "id": "-kehybL1ihsV",
        "colab_type": "code",
        "colab": {
          "base_uri": "https://localhost:8080/",
          "height": 1000
        },
        "outputId": "d12bca7b-74fa-4174-8630-5c2746e570ba"
      },
      "source": [
        "from bing_image_downloader import downloader\n",
        "downloader.download(\"goat animal\",limit = 20, output_dir = 'images')"
      ],
      "execution_count": null,
      "outputs": [
        {
          "output_type": "stream",
          "text": [
            "\n",
            "\n",
            "[!!]Indexing page: 1\n",
            "\n",
            "[%] Indexed 20 Images on Page 1.\n",
            "\n",
            "===============================================\n",
            "\n",
            "[%] Downloading Image #1 from https://upload.wikimedia.org/wikipedia/commons/thumb/b/b2/Hausziege_04.jpg/1200px-Hausziege_04.jpg\n",
            "[%] File Downloaded !\n",
            "\n",
            "[%] Downloading Image #2 from https://animalcorner.co.uk/wp-content/uploads/2015/02/goat9-1.jpg\n",
            "[%] File Downloaded !\n",
            "\n",
            "[%] Downloading Image #3 from http://4.bp.blogspot.com/-CqlAg4HDi_U/Ueli0KF3OcI/AAAAAAAADuo/jS9mD1-OT5I/s1600/Mountain_Goat_Wallpaper.jpg\n",
            "[%] File Downloaded !\n",
            "\n",
            "[%] Downloading Image #4 from http://1.bp.blogspot.com/-kSw8WgBV8Ao/Ueli0QoiQJI/AAAAAAAADus/-fF0fWsMUhU/s1600/Mountain_Goat_Wild_Animal.jpg\n",
            "[%] File Downloaded !\n",
            "\n",
            "[%] Downloading Image #5 from http://2.bp.blogspot.com/-3y9SL7PvwV0/TWY08s-mS0I/AAAAAAAABH8/zT4Ye2boCm0/s1600/goat_1.jpg\n",
            "[%] File Downloaded !\n",
            "\n",
            "[%] Downloading Image #6 from http://2.bp.blogspot.com/-0lgVjUv3X_o/TtAM9ex2ixI/AAAAAAAADgc/ljTQ_SLYB6Y/s1600/goats.jpg\n",
            "[%] File Downloaded !\n",
            "\n",
            "[%] Downloading Image #7 from http://2.bp.blogspot.com/-nO4oKApqJyk/VjSdzzbaqfI/AAAAAAAAAMY/gy6lHY1p8M8/s1600/goat-animal-wallpaper-hd-for-free.jpeg\n",
            "[%] File Downloaded !\n",
            "\n",
            "[%] Downloading Image #8 from http://4.bp.blogspot.com/-t6RfInF_sPg/U1ISKLwN_qI/AAAAAAAAA7I/f0IUcJKFdtQ/s1600/Goat_face.jpg\n",
            "[%] File Downloaded !\n",
            "\n",
            "[%] Downloading Image #9 from https://srichinmoy.files.wordpress.com/2014/01/goat.jpg\n",
            "[%] File Downloaded !\n",
            "\n",
            "[%] Downloading Image #10 from https://media1.britannica.com/eb-media/29/529-050-6B31311A.jpg\n",
            "[%] File Downloaded !\n",
            "\n",
            "[%] Downloading Image #11 from http://a.abcnews.com/images/Lifestyle/HT_maurice_goat_mm_160302_4x3_992.jpg\n",
            "[%] File Downloaded !\n",
            "\n",
            "[%] Downloading Image #12 from http://1.bp.blogspot.com/-gTv1VW-TErY/Ueliw8LyMcI/AAAAAAAADuQ/3gF2Qw8Cr98/s1600/Mountain_Goat_Animal.jpg\n",
            "[%] File Downloaded !\n",
            "\n",
            "[%] Downloading Image #13 from http://3.bp.blogspot.com/-6h8UmCEamZY/UweIAtqbWQI/AAAAAAAA4CE/6-uDhm9-RBo/s1600/funny-animals-096-018.jpg\n",
            "[%] File Downloaded !\n",
            "\n",
            "[%] Downloading Image #14 from http://upload.wikimedia.org/wikipedia/commons/f/ff/Domestic_goat_kid_in_capeweed.jpg\n",
            "[%] File Downloaded !\n",
            "\n",
            "[%] Downloading Image #15 from https://images-na.ssl-images-amazon.com/images/G/01/aplusautomation/vendorimages/f1931471-eaf1-43a2-991e-2281e5a3ae90.jpg._CB324099086_.jpg\n",
            "[%] File Downloaded !\n",
            "\n",
            "[%] Downloading Image #16 from https://animalcorner.co.uk/wp-content/uploads/2015/02/14499262251_acf22c2fa3_b.jpg\n",
            "[%] File Downloaded !\n",
            "\n",
            "[%] Downloading Image #17 from http://4.bp.blogspot.com/-dRF4uOoKCgE/Ugk752sGrWI/AAAAAAAARD4/56Fs_0eOKLQ/s1600/k5.jpg\n",
            "[%] File Downloaded !\n",
            "\n",
            "[%] Downloading Image #18 from http://4.bp.blogspot.com/-qLN1UJkatZM/UQSLDVeWOtI/AAAAAAAAWq8/snQZk3Jz5KQ/s1600/Mountain+Goat+4.jpg\n",
            "[%] File Downloaded !\n",
            "\n",
            "[%] Downloading Image #19 from http://1.bp.blogspot.com/-pIRF1I10Zhs/TyKNAaGoaBI/AAAAAAAABnk/eh8NaV05iiA/s1600/funny_animals_0.jpg\n",
            "[%] File Downloaded !\n",
            "\n",
            "[%] Downloading Image #20 from https://nationalzoo.si.edu/sites/default/files/animals/sanclementeislandgoat-002.jpg\n",
            "[%] File Downloaded !\n",
            "\n"
          ],
          "name": "stdout"
        }
      ]
    },
    {
      "cell_type": "code",
      "metadata": {
        "id": "OgLiNItJjGs-",
        "colab_type": "code",
        "colab": {
          "base_uri": "https://localhost:8080/",
          "height": 1000
        },
        "outputId": "55350489-3c8d-4173-e866-3ecf971613f8"
      },
      "source": [
        "from bing_image_downloader import downloader\n",
        "downloader.download(\"sheep animal\",limit = 20, output_dir = 'images')"
      ],
      "execution_count": null,
      "outputs": [
        {
          "output_type": "stream",
          "text": [
            "\n",
            "\n",
            "[!!]Indexing page: 1\n",
            "\n",
            "[%] Indexed 20 Images on Page 1.\n",
            "\n",
            "===============================================\n",
            "\n",
            "[%] Downloading Image #1 from http://1.bp.blogspot.com/-xM7EFJmmB10/UDXNMyxutsI/AAAAAAAAOzE/4a-2boG0Cek/s1600/Sheep6.JPG\n",
            "[%] File Downloaded !\n",
            "\n",
            "[%] Downloading Image #2 from https://vignette.wikia.nocookie.net/animals/images/b/ba/Sheep.jpg/revision/latest?cb=20190209033122\n",
            "[%] File Downloaded !\n",
            "\n",
            "[%] Downloading Image #3 from http://1.bp.blogspot.com/-cO_dY4_B1OY/UDXM8YY1V8I/AAAAAAAAOyk/p_yWLUD93BM/s1600/Sheep2.jpg\n",
            "[%] File Downloaded !\n",
            "\n",
            "[%] Downloading Image #4 from https://upload.wikimedia.org/wikipedia/commons/2/2c/Flock_of_sheep.jpg\n",
            "[%] File Downloaded !\n",
            "\n",
            "[%] Downloading Image #5 from http://4.bp.blogspot.com/-OcOyqD_vmOw/T3AcE5mw8aI/AAAAAAAABnc/_EPNikT9kCs/s1600/Sheep.jpg\n",
            "[%] File Downloaded !\n",
            "\n",
            "[%] Downloading Image #6 from https://static.pexels.com/photos/20994/pexels-photo.jpg\n",
            "[%] File Downloaded !\n",
            "\n",
            "[%] Downloading Image #7 from https://lhfkidsblog.files.wordpress.com/2014/01/img_6364.jpg\n",
            "[%] File Downloaded !\n",
            "\n",
            "[%] Downloading Image #8 from http://media.buzzle.com/media/images-en/photos/mammals/1200-46212968-sheep-animal.jpg\n",
            "[!] Issue getting: http://media.buzzle.com/media/images-en/photos/mammals/1200-46212968-sheep-animal.jpg\n",
            "[!] Error:: HTTP Error 400: Bad Request\n",
            "[%] Downloading Image #8 from http://www.animalsandenglish.com/uploads/6/6/0/6/6606397/6444790_orig.jpg\n",
            "[%] File Downloaded !\n",
            "\n",
            "[%] Downloading Image #9 from http://2.bp.blogspot.com/-yyBgAZxqHCA/UDXNUsNEDfI/AAAAAAAAOzM/GBmGmoUjWk8/s1600/Sheep7.jpg\n",
            "[%] File Downloaded !\n",
            "\n",
            "[%] Downloading Image #10 from https://3c1703fe8d.site.internapcdn.net/newman/gfx/news/hires/2015/sheep.jpg\n",
            "[%] File Downloaded !\n",
            "\n",
            "[%] Downloading Image #11 from http://upload.wikimedia.org/wikipedia/commons/5/5c/Ovis_orientalis_aries_02.jpg\n",
            "[%] File Downloaded !\n",
            "\n",
            "[%] Downloading Image #12 from https://weknowyourdreams.com/images/sheep/sheep-03.jpg\n",
            "[!] Issue getting: https://weknowyourdreams.com/images/sheep/sheep-03.jpg\n",
            "[!] Error:: hostname 'weknowyourdreams.com' doesn't match either of 'icon-library.es', 'www.icon-library.es'\n",
            "[%] Downloading Image #12 from http://www.rexwallpapers.com/images/wallpapers/animals/sheep/sheep_1.jpg\n",
            "[%] File Downloaded !\n",
            "\n",
            "[%] Downloading Image #13 from https://cdn.pixabay.com/photo/2016/07/28/12/03/sheep-1547720_960_720.jpg\n",
            "[%] File Downloaded !\n",
            "\n",
            "[%] Downloading Image #14 from http://1.bp.blogspot.com/-T4Oc0Kd6gos/T-WmiRW_CgI/AAAAAAAABtU/OZtisFWcgUk/s400/Sheep+07.jpg\n",
            "[%] File Downloaded !\n",
            "\n",
            "[%] Downloading Image #15 from http://1.bp.blogspot.com/-qNxzo_fB33I/T-Wmjz8xbpI/AAAAAAAABtc/OLY6BUH2JSU/s1600/Sheep.jpg\n",
            "[%] File Downloaded !\n",
            "\n",
            "[%] Downloading Image #16 from http://i.huffpost.com/gen/1119926/images/o-DOG-RIDES-SHEEP-facebook.jpg\n",
            "[%] File Downloaded !\n",
            "\n",
            "[%] Downloading Image #17 from https://media.truelocal.com.au/0/9/08BAA637-0F22-465A-B967-A7B1F90986B9/pet-sheep-farm-whittlesea-animal-breeding-f7d7-938x704.jpg\n",
            "[%] File Downloaded !\n",
            "\n",
            "[%] Downloading Image #18 from http://4.bp.blogspot.com/-2li66fmTOv4/UDXNKSwTEqI/AAAAAAAAOy8/6tO8x4LjYwk/s1600/Sheep5.jpg\n",
            "[%] File Downloaded !\n",
            "\n",
            "\n",
            "\n",
            "[!!]Indexing page: 2\n",
            "\n",
            "[%] Indexed 35 Images on Page 2.\n",
            "\n",
            "===============================================\n",
            "\n",
            "[%] Downloading Image #19 from http://1.bp.blogspot.com/-xM7EFJmmB10/UDXNMyxutsI/AAAAAAAAOzE/4a-2boG0Cek/s1600/Sheep6.JPG\n",
            "[%] File Downloaded !\n",
            "\n",
            "[%] Downloading Image #20 from https://vignette.wikia.nocookie.net/animals/images/b/ba/Sheep.jpg/revision/latest?cb=20190209033122\n",
            "[%] File Downloaded !\n",
            "\n",
            "\n",
            "\n",
            "[%] Done. Downloaded 20 images.\n",
            "\n",
            "===============================================\n",
            "\n"
          ],
          "name": "stdout"
        }
      ]
    },
    {
      "cell_type": "code",
      "metadata": {
        "id": "1empIayCjOLg",
        "colab_type": "code",
        "colab": {}
      },
      "source": [
        "downloader.download?"
      ],
      "execution_count": null,
      "outputs": []
    },
    {
      "cell_type": "code",
      "metadata": {
        "id": "3Fe8EslgjcD-",
        "colab_type": "code",
        "colab": {}
      },
      "source": [
        "import os\n",
        "import numpy as np\n",
        "from skimage.io import imread\n",
        "from skimage.transform import resize"
      ],
      "execution_count": null,
      "outputs": []
    },
    {
      "cell_type": "code",
      "metadata": {
        "id": "Gb1-q_50jwf5",
        "colab_type": "code",
        "colab": {
          "base_uri": "https://localhost:8080/",
          "height": 67
        },
        "outputId": "bf9c5053-8669-4b1e-aa85-60f56bcfb4de"
      },
      "source": [
        "target = []   \n",
        "flat_data = []   \n",
        "images= []\n",
        "\n",
        "path = '/content/drive/My Drive/images/images/'\n",
        "for dirpath, dirnames, filenames in os.walk(path):\n",
        "  for filename in filenames:\n",
        "    category = dirpath.split('/')[-1]\n",
        "    target.append(category)\n",
        "    img = imread(f'{path}{category}/{filename}')\n",
        "    img_resized = resize(img,(50,50,3))  \n",
        "    flat_data.append(img_resized.flatten())\n",
        "    images.append(img_resized)\n",
        "\n",
        "flat_data = np.array(flat_data)\n",
        "target = np.array(target)\n",
        "images = np.array(images)\n",
        "\n",
        "print(flat_data.shape)\n",
        "print(target.shape)\n",
        "print(images.shape)"
      ],
      "execution_count": null,
      "outputs": [
        {
          "output_type": "stream",
          "text": [
            "(40, 7500)\n",
            "(40,)\n",
            "(40, 50, 50, 3)\n"
          ],
          "name": "stdout"
        }
      ]
    },
    {
      "cell_type": "code",
      "metadata": {
        "id": "HWFLVtOCkI0T",
        "colab_type": "code",
        "colab": {}
      },
      "source": [
        "import pandas as pd\n",
        "df = pd.DataFrame(flat_data)\n",
        "df['Target'] = target"
      ],
      "execution_count": null,
      "outputs": []
    },
    {
      "cell_type": "code",
      "metadata": {
        "id": "WwCEAQ5AmP12",
        "colab_type": "code",
        "colab": {
          "base_uri": "https://localhost:8080/",
          "height": 328
        },
        "outputId": "708c78ed-c637-4283-d123-cf82cff12849"
      },
      "source": [
        "df.head()"
      ],
      "execution_count": null,
      "outputs": [
        {
          "output_type": "execute_result",
          "data": {
            "text/html": [
              "<div>\n",
              "<style scoped>\n",
              "    .dataframe tbody tr th:only-of-type {\n",
              "        vertical-align: middle;\n",
              "    }\n",
              "\n",
              "    .dataframe tbody tr th {\n",
              "        vertical-align: top;\n",
              "    }\n",
              "\n",
              "    .dataframe thead th {\n",
              "        text-align: right;\n",
              "    }\n",
              "</style>\n",
              "<table border=\"1\" class=\"dataframe\">\n",
              "  <thead>\n",
              "    <tr style=\"text-align: right;\">\n",
              "      <th></th>\n",
              "      <th>0</th>\n",
              "      <th>1</th>\n",
              "      <th>2</th>\n",
              "      <th>3</th>\n",
              "      <th>4</th>\n",
              "      <th>5</th>\n",
              "      <th>6</th>\n",
              "      <th>7</th>\n",
              "      <th>8</th>\n",
              "      <th>9</th>\n",
              "      <th>10</th>\n",
              "      <th>11</th>\n",
              "      <th>12</th>\n",
              "      <th>13</th>\n",
              "      <th>14</th>\n",
              "      <th>15</th>\n",
              "      <th>16</th>\n",
              "      <th>17</th>\n",
              "      <th>18</th>\n",
              "      <th>19</th>\n",
              "      <th>20</th>\n",
              "      <th>21</th>\n",
              "      <th>22</th>\n",
              "      <th>23</th>\n",
              "      <th>24</th>\n",
              "      <th>25</th>\n",
              "      <th>26</th>\n",
              "      <th>27</th>\n",
              "      <th>28</th>\n",
              "      <th>29</th>\n",
              "      <th>30</th>\n",
              "      <th>31</th>\n",
              "      <th>32</th>\n",
              "      <th>33</th>\n",
              "      <th>34</th>\n",
              "      <th>35</th>\n",
              "      <th>36</th>\n",
              "      <th>37</th>\n",
              "      <th>38</th>\n",
              "      <th>39</th>\n",
              "      <th>...</th>\n",
              "      <th>7461</th>\n",
              "      <th>7462</th>\n",
              "      <th>7463</th>\n",
              "      <th>7464</th>\n",
              "      <th>7465</th>\n",
              "      <th>7466</th>\n",
              "      <th>7467</th>\n",
              "      <th>7468</th>\n",
              "      <th>7469</th>\n",
              "      <th>7470</th>\n",
              "      <th>7471</th>\n",
              "      <th>7472</th>\n",
              "      <th>7473</th>\n",
              "      <th>7474</th>\n",
              "      <th>7475</th>\n",
              "      <th>7476</th>\n",
              "      <th>7477</th>\n",
              "      <th>7478</th>\n",
              "      <th>7479</th>\n",
              "      <th>7480</th>\n",
              "      <th>7481</th>\n",
              "      <th>7482</th>\n",
              "      <th>7483</th>\n",
              "      <th>7484</th>\n",
              "      <th>7485</th>\n",
              "      <th>7486</th>\n",
              "      <th>7487</th>\n",
              "      <th>7488</th>\n",
              "      <th>7489</th>\n",
              "      <th>7490</th>\n",
              "      <th>7491</th>\n",
              "      <th>7492</th>\n",
              "      <th>7493</th>\n",
              "      <th>7494</th>\n",
              "      <th>7495</th>\n",
              "      <th>7496</th>\n",
              "      <th>7497</th>\n",
              "      <th>7498</th>\n",
              "      <th>7499</th>\n",
              "      <th>Target</th>\n",
              "    </tr>\n",
              "  </thead>\n",
              "  <tbody>\n",
              "    <tr>\n",
              "      <th>0</th>\n",
              "      <td>0.035294</td>\n",
              "      <td>0.109804</td>\n",
              "      <td>0.125490</td>\n",
              "      <td>0.047059</td>\n",
              "      <td>0.121569</td>\n",
              "      <td>0.137255</td>\n",
              "      <td>0.078431</td>\n",
              "      <td>0.150980</td>\n",
              "      <td>0.156863</td>\n",
              "      <td>0.109804</td>\n",
              "      <td>0.180392</td>\n",
              "      <td>0.178431</td>\n",
              "      <td>0.131373</td>\n",
              "      <td>0.203922</td>\n",
              "      <td>0.196078</td>\n",
              "      <td>0.112745</td>\n",
              "      <td>0.192157</td>\n",
              "      <td>0.180392</td>\n",
              "      <td>0.086275</td>\n",
              "      <td>0.176471</td>\n",
              "      <td>0.160784</td>\n",
              "      <td>0.086275</td>\n",
              "      <td>0.183333</td>\n",
              "      <td>0.164706</td>\n",
              "      <td>0.101961</td>\n",
              "      <td>0.188235</td>\n",
              "      <td>0.172549</td>\n",
              "      <td>0.105882</td>\n",
              "      <td>0.180392</td>\n",
              "      <td>0.175490</td>\n",
              "      <td>0.098039</td>\n",
              "      <td>0.172549</td>\n",
              "      <td>0.168627</td>\n",
              "      <td>0.101961</td>\n",
              "      <td>0.172549</td>\n",
              "      <td>0.172549</td>\n",
              "      <td>0.098039</td>\n",
              "      <td>0.168627</td>\n",
              "      <td>0.168627</td>\n",
              "      <td>0.094118</td>\n",
              "      <td>...</td>\n",
              "      <td>0.759804</td>\n",
              "      <td>0.800000</td>\n",
              "      <td>0.329412</td>\n",
              "      <td>0.775490</td>\n",
              "      <td>0.827451</td>\n",
              "      <td>0.234314</td>\n",
              "      <td>0.760784</td>\n",
              "      <td>0.813725</td>\n",
              "      <td>0.269608</td>\n",
              "      <td>0.613725</td>\n",
              "      <td>0.671569</td>\n",
              "      <td>0.252941</td>\n",
              "      <td>0.333333</td>\n",
              "      <td>0.381373</td>\n",
              "      <td>0.204902</td>\n",
              "      <td>0.209804</td>\n",
              "      <td>0.230392</td>\n",
              "      <td>0.192157</td>\n",
              "      <td>0.142157</td>\n",
              "      <td>0.147059</td>\n",
              "      <td>0.152941</td>\n",
              "      <td>0.104902</td>\n",
              "      <td>0.108824</td>\n",
              "      <td>0.122549</td>\n",
              "      <td>0.162745</td>\n",
              "      <td>0.170588</td>\n",
              "      <td>0.190196</td>\n",
              "      <td>0.215686</td>\n",
              "      <td>0.224510</td>\n",
              "      <td>0.247059</td>\n",
              "      <td>0.164706</td>\n",
              "      <td>0.176471</td>\n",
              "      <td>0.154902</td>\n",
              "      <td>0.284314</td>\n",
              "      <td>0.307843</td>\n",
              "      <td>0.143137</td>\n",
              "      <td>0.358824</td>\n",
              "      <td>0.389216</td>\n",
              "      <td>0.174510</td>\n",
              "      <td>goat animal</td>\n",
              "    </tr>\n",
              "    <tr>\n",
              "      <th>1</th>\n",
              "      <td>0.196078</td>\n",
              "      <td>0.305882</td>\n",
              "      <td>0.047059</td>\n",
              "      <td>0.208706</td>\n",
              "      <td>0.301961</td>\n",
              "      <td>0.066667</td>\n",
              "      <td>0.246471</td>\n",
              "      <td>0.317647</td>\n",
              "      <td>0.090196</td>\n",
              "      <td>0.270588</td>\n",
              "      <td>0.335647</td>\n",
              "      <td>0.094118</td>\n",
              "      <td>0.278431</td>\n",
              "      <td>0.337255</td>\n",
              "      <td>0.103255</td>\n",
              "      <td>0.278431</td>\n",
              "      <td>0.341176</td>\n",
              "      <td>0.090196</td>\n",
              "      <td>0.274510</td>\n",
              "      <td>0.333333</td>\n",
              "      <td>0.051725</td>\n",
              "      <td>0.301961</td>\n",
              "      <td>0.329412</td>\n",
              "      <td>0.078824</td>\n",
              "      <td>0.325490</td>\n",
              "      <td>0.334471</td>\n",
              "      <td>0.112078</td>\n",
              "      <td>0.321569</td>\n",
              "      <td>0.321569</td>\n",
              "      <td>0.141176</td>\n",
              "      <td>0.313725</td>\n",
              "      <td>0.300902</td>\n",
              "      <td>0.149020</td>\n",
              "      <td>0.278353</td>\n",
              "      <td>0.280392</td>\n",
              "      <td>0.121490</td>\n",
              "      <td>0.250980</td>\n",
              "      <td>0.277451</td>\n",
              "      <td>0.098039</td>\n",
              "      <td>0.299961</td>\n",
              "      <td>...</td>\n",
              "      <td>0.511765</td>\n",
              "      <td>0.430392</td>\n",
              "      <td>0.333333</td>\n",
              "      <td>0.568549</td>\n",
              "      <td>0.492118</td>\n",
              "      <td>0.396000</td>\n",
              "      <td>0.580392</td>\n",
              "      <td>0.510706</td>\n",
              "      <td>0.417490</td>\n",
              "      <td>0.560784</td>\n",
              "      <td>0.543255</td>\n",
              "      <td>0.501725</td>\n",
              "      <td>0.538078</td>\n",
              "      <td>0.466980</td>\n",
              "      <td>0.380706</td>\n",
              "      <td>0.574510</td>\n",
              "      <td>0.476275</td>\n",
              "      <td>0.370196</td>\n",
              "      <td>0.619608</td>\n",
              "      <td>0.529412</td>\n",
              "      <td>0.435294</td>\n",
              "      <td>0.615686</td>\n",
              "      <td>0.529412</td>\n",
              "      <td>0.427451</td>\n",
              "      <td>0.648392</td>\n",
              "      <td>0.569961</td>\n",
              "      <td>0.468000</td>\n",
              "      <td>0.701961</td>\n",
              "      <td>0.635294</td>\n",
              "      <td>0.544392</td>\n",
              "      <td>0.717647</td>\n",
              "      <td>0.647059</td>\n",
              "      <td>0.556275</td>\n",
              "      <td>0.721569</td>\n",
              "      <td>0.647059</td>\n",
              "      <td>0.549020</td>\n",
              "      <td>0.717647</td>\n",
              "      <td>0.643137</td>\n",
              "      <td>0.552941</td>\n",
              "      <td>goat animal</td>\n",
              "    </tr>\n",
              "    <tr>\n",
              "      <th>2</th>\n",
              "      <td>0.078431</td>\n",
              "      <td>0.196078</td>\n",
              "      <td>0.243137</td>\n",
              "      <td>0.070588</td>\n",
              "      <td>0.196078</td>\n",
              "      <td>0.254902</td>\n",
              "      <td>0.054902</td>\n",
              "      <td>0.192157</td>\n",
              "      <td>0.262745</td>\n",
              "      <td>0.043137</td>\n",
              "      <td>0.184314</td>\n",
              "      <td>0.266667</td>\n",
              "      <td>0.039216</td>\n",
              "      <td>0.184314</td>\n",
              "      <td>0.273529</td>\n",
              "      <td>0.035294</td>\n",
              "      <td>0.188235</td>\n",
              "      <td>0.286275</td>\n",
              "      <td>0.031373</td>\n",
              "      <td>0.188235</td>\n",
              "      <td>0.290196</td>\n",
              "      <td>0.027451</td>\n",
              "      <td>0.184314</td>\n",
              "      <td>0.286275</td>\n",
              "      <td>0.023529</td>\n",
              "      <td>0.180392</td>\n",
              "      <td>0.282353</td>\n",
              "      <td>0.019608</td>\n",
              "      <td>0.176471</td>\n",
              "      <td>0.278431</td>\n",
              "      <td>0.015686</td>\n",
              "      <td>0.172549</td>\n",
              "      <td>0.274510</td>\n",
              "      <td>0.015686</td>\n",
              "      <td>0.172549</td>\n",
              "      <td>0.274510</td>\n",
              "      <td>0.015686</td>\n",
              "      <td>0.172549</td>\n",
              "      <td>0.274510</td>\n",
              "      <td>0.011765</td>\n",
              "      <td>...</td>\n",
              "      <td>0.513725</td>\n",
              "      <td>0.530392</td>\n",
              "      <td>0.466667</td>\n",
              "      <td>0.298039</td>\n",
              "      <td>0.328431</td>\n",
              "      <td>0.271569</td>\n",
              "      <td>0.107843</td>\n",
              "      <td>0.135294</td>\n",
              "      <td>0.111765</td>\n",
              "      <td>0.390196</td>\n",
              "      <td>0.422549</td>\n",
              "      <td>0.379412</td>\n",
              "      <td>0.590196</td>\n",
              "      <td>0.613725</td>\n",
              "      <td>0.571569</td>\n",
              "      <td>0.654902</td>\n",
              "      <td>0.666667</td>\n",
              "      <td>0.642157</td>\n",
              "      <td>0.735294</td>\n",
              "      <td>0.725490</td>\n",
              "      <td>0.715686</td>\n",
              "      <td>0.583333</td>\n",
              "      <td>0.590196</td>\n",
              "      <td>0.553922</td>\n",
              "      <td>0.475490</td>\n",
              "      <td>0.510784</td>\n",
              "      <td>0.470588</td>\n",
              "      <td>0.747059</td>\n",
              "      <td>0.782353</td>\n",
              "      <td>0.726471</td>\n",
              "      <td>0.739216</td>\n",
              "      <td>0.778431</td>\n",
              "      <td>0.736275</td>\n",
              "      <td>0.749020</td>\n",
              "      <td>0.790196</td>\n",
              "      <td>0.760784</td>\n",
              "      <td>0.729412</td>\n",
              "      <td>0.760784</td>\n",
              "      <td>0.741176</td>\n",
              "      <td>goat animal</td>\n",
              "    </tr>\n",
              "    <tr>\n",
              "      <th>3</th>\n",
              "      <td>0.707843</td>\n",
              "      <td>0.737255</td>\n",
              "      <td>0.784314</td>\n",
              "      <td>0.701961</td>\n",
              "      <td>0.733333</td>\n",
              "      <td>0.784314</td>\n",
              "      <td>0.690196</td>\n",
              "      <td>0.725490</td>\n",
              "      <td>0.784314</td>\n",
              "      <td>0.686275</td>\n",
              "      <td>0.721569</td>\n",
              "      <td>0.780392</td>\n",
              "      <td>0.686275</td>\n",
              "      <td>0.721569</td>\n",
              "      <td>0.780392</td>\n",
              "      <td>0.682353</td>\n",
              "      <td>0.721569</td>\n",
              "      <td>0.780392</td>\n",
              "      <td>0.682353</td>\n",
              "      <td>0.717647</td>\n",
              "      <td>0.776471</td>\n",
              "      <td>0.678431</td>\n",
              "      <td>0.713725</td>\n",
              "      <td>0.772549</td>\n",
              "      <td>0.674510</td>\n",
              "      <td>0.709804</td>\n",
              "      <td>0.772549</td>\n",
              "      <td>0.674510</td>\n",
              "      <td>0.709804</td>\n",
              "      <td>0.772549</td>\n",
              "      <td>0.670588</td>\n",
              "      <td>0.709804</td>\n",
              "      <td>0.772549</td>\n",
              "      <td>0.670588</td>\n",
              "      <td>0.709804</td>\n",
              "      <td>0.772549</td>\n",
              "      <td>0.666667</td>\n",
              "      <td>0.705882</td>\n",
              "      <td>0.772549</td>\n",
              "      <td>0.664706</td>\n",
              "      <td>...</td>\n",
              "      <td>0.424510</td>\n",
              "      <td>0.405882</td>\n",
              "      <td>0.378431</td>\n",
              "      <td>0.375490</td>\n",
              "      <td>0.339216</td>\n",
              "      <td>0.291176</td>\n",
              "      <td>0.386275</td>\n",
              "      <td>0.338235</td>\n",
              "      <td>0.266667</td>\n",
              "      <td>0.375490</td>\n",
              "      <td>0.317647</td>\n",
              "      <td>0.243137</td>\n",
              "      <td>0.303922</td>\n",
              "      <td>0.241176</td>\n",
              "      <td>0.174510</td>\n",
              "      <td>0.327451</td>\n",
              "      <td>0.279412</td>\n",
              "      <td>0.217647</td>\n",
              "      <td>0.350980</td>\n",
              "      <td>0.298039</td>\n",
              "      <td>0.226471</td>\n",
              "      <td>0.356863</td>\n",
              "      <td>0.298039</td>\n",
              "      <td>0.223529</td>\n",
              "      <td>0.386275</td>\n",
              "      <td>0.331373</td>\n",
              "      <td>0.247059</td>\n",
              "      <td>0.311765</td>\n",
              "      <td>0.259804</td>\n",
              "      <td>0.178431</td>\n",
              "      <td>0.219608</td>\n",
              "      <td>0.199020</td>\n",
              "      <td>0.166667</td>\n",
              "      <td>0.236275</td>\n",
              "      <td>0.224510</td>\n",
              "      <td>0.200980</td>\n",
              "      <td>0.272549</td>\n",
              "      <td>0.255882</td>\n",
              "      <td>0.227451</td>\n",
              "      <td>goat animal</td>\n",
              "    </tr>\n",
              "    <tr>\n",
              "      <th>4</th>\n",
              "      <td>0.156863</td>\n",
              "      <td>0.235294</td>\n",
              "      <td>0.091176</td>\n",
              "      <td>0.168627</td>\n",
              "      <td>0.266667</td>\n",
              "      <td>0.053922</td>\n",
              "      <td>0.131373</td>\n",
              "      <td>0.206863</td>\n",
              "      <td>0.050980</td>\n",
              "      <td>0.107843</td>\n",
              "      <td>0.162745</td>\n",
              "      <td>0.061765</td>\n",
              "      <td>0.109804</td>\n",
              "      <td>0.176471</td>\n",
              "      <td>0.078431</td>\n",
              "      <td>0.098039</td>\n",
              "      <td>0.158824</td>\n",
              "      <td>0.072549</td>\n",
              "      <td>0.043137</td>\n",
              "      <td>0.070588</td>\n",
              "      <td>0.019608</td>\n",
              "      <td>0.035294</td>\n",
              "      <td>0.054902</td>\n",
              "      <td>0.011765</td>\n",
              "      <td>0.023529</td>\n",
              "      <td>0.040196</td>\n",
              "      <td>0.007843</td>\n",
              "      <td>0.019608</td>\n",
              "      <td>0.035294</td>\n",
              "      <td>0.007843</td>\n",
              "      <td>0.015686</td>\n",
              "      <td>0.028431</td>\n",
              "      <td>0.000000</td>\n",
              "      <td>0.027451</td>\n",
              "      <td>0.047059</td>\n",
              "      <td>0.000000</td>\n",
              "      <td>0.023529</td>\n",
              "      <td>0.039216</td>\n",
              "      <td>0.007843</td>\n",
              "      <td>0.023529</td>\n",
              "      <td>...</td>\n",
              "      <td>0.223529</td>\n",
              "      <td>0.203922</td>\n",
              "      <td>0.137255</td>\n",
              "      <td>0.208824</td>\n",
              "      <td>0.209804</td>\n",
              "      <td>0.147059</td>\n",
              "      <td>0.111765</td>\n",
              "      <td>0.156863</td>\n",
              "      <td>0.073529</td>\n",
              "      <td>0.070588</td>\n",
              "      <td>0.112745</td>\n",
              "      <td>0.039216</td>\n",
              "      <td>0.090196</td>\n",
              "      <td>0.147059</td>\n",
              "      <td>0.056863</td>\n",
              "      <td>0.070588</td>\n",
              "      <td>0.109804</td>\n",
              "      <td>0.039216</td>\n",
              "      <td>0.066667</td>\n",
              "      <td>0.105882</td>\n",
              "      <td>0.031373</td>\n",
              "      <td>0.090196</td>\n",
              "      <td>0.147059</td>\n",
              "      <td>0.050980</td>\n",
              "      <td>0.117647</td>\n",
              "      <td>0.188235</td>\n",
              "      <td>0.074510</td>\n",
              "      <td>0.128431</td>\n",
              "      <td>0.193137</td>\n",
              "      <td>0.058824</td>\n",
              "      <td>0.160784</td>\n",
              "      <td>0.252941</td>\n",
              "      <td>0.072549</td>\n",
              "      <td>0.212745</td>\n",
              "      <td>0.323529</td>\n",
              "      <td>0.168627</td>\n",
              "      <td>0.156863</td>\n",
              "      <td>0.284314</td>\n",
              "      <td>0.092157</td>\n",
              "      <td>goat animal</td>\n",
              "    </tr>\n",
              "  </tbody>\n",
              "</table>\n",
              "<p>5 rows × 7501 columns</p>\n",
              "</div>"
            ],
            "text/plain": [
              "          0         1         2  ...      7498      7499       Target\n",
              "0  0.035294  0.109804  0.125490  ...  0.389216  0.174510  goat animal\n",
              "1  0.196078  0.305882  0.047059  ...  0.643137  0.552941  goat animal\n",
              "2  0.078431  0.196078  0.243137  ...  0.760784  0.741176  goat animal\n",
              "3  0.707843  0.737255  0.784314  ...  0.255882  0.227451  goat animal\n",
              "4  0.156863  0.235294  0.091176  ...  0.284314  0.092157  goat animal\n",
              "\n",
              "[5 rows x 7501 columns]"
            ]
          },
          "metadata": {
            "tags": []
          },
          "execution_count": 23
        }
      ]
    },
    {
      "cell_type": "code",
      "metadata": {
        "id": "0DP36VCgxC2l",
        "colab_type": "code",
        "colab": {}
      },
      "source": [
        "x=df.drop(columns=['Target'])\n",
        "y=df['Target']"
      ],
      "execution_count": null,
      "outputs": []
    },
    {
      "cell_type": "code",
      "metadata": {
        "id": "am-C-FMxxNd6",
        "colab_type": "code",
        "colab": {
          "base_uri": "https://localhost:8080/",
          "height": 34
        },
        "outputId": "99e3df9a-3a4a-49d6-8281-f3aa184d393d"
      },
      "source": [
        "from sklearn.model_selection import train_test_split\n",
        "x_train,x_test,y_train,y_test=train_test_split(x,y)\n",
        "x_train.shape,x_test.shape,y_train.shape,y_test.shape"
      ],
      "execution_count": null,
      "outputs": [
        {
          "output_type": "execute_result",
          "data": {
            "text/plain": [
              "((30, 7500), (10, 7500), (30,), (10,))"
            ]
          },
          "metadata": {
            "tags": []
          },
          "execution_count": 25
        }
      ]
    },
    {
      "cell_type": "code",
      "metadata": {
        "id": "gqF9CTAHxSBW",
        "colab_type": "code",
        "colab": {
          "base_uri": "https://localhost:8080/",
          "height": 67
        },
        "outputId": "d573e9ed-294b-4d61-92be-46f953732be4"
      },
      "source": [
        "from sklearn.neighbors import KNeighborsClassifier\n",
        "model=KNeighborsClassifier(n_neighbors=6)\n",
        "model.fit(x_train,y_train)\n",
        "pred=model.predict(x_test)\n",
        "pred"
      ],
      "execution_count": null,
      "outputs": [
        {
          "output_type": "execute_result",
          "data": {
            "text/plain": [
              "array(['sheep animal', 'goat animal', 'sheep animal', 'sheep animal',\n",
              "       'sheep animal', 'sheep animal', 'goat animal', 'goat animal',\n",
              "       'sheep animal', 'sheep animal'], dtype=object)"
            ]
          },
          "metadata": {
            "tags": []
          },
          "execution_count": 26
        }
      ]
    },
    {
      "cell_type": "code",
      "metadata": {
        "id": "VDpyYLxKxXU5",
        "colab_type": "code",
        "colab": {
          "base_uri": "https://localhost:8080/",
          "height": 202
        },
        "outputId": "a099968e-f9e4-4ccb-9025-b2a95648f0c7"
      },
      "source": [
        "y_test"
      ],
      "execution_count": null,
      "outputs": [
        {
          "output_type": "execute_result",
          "data": {
            "text/plain": [
              "30    sheep animal\n",
              "9      goat animal\n",
              "18     goat animal\n",
              "7      goat animal\n",
              "39    sheep animal\n",
              "31    sheep animal\n",
              "36    sheep animal\n",
              "2      goat animal\n",
              "1      goat animal\n",
              "37    sheep animal\n",
              "Name: Target, dtype: object"
            ]
          },
          "metadata": {
            "tags": []
          },
          "execution_count": 27
        }
      ]
    },
    {
      "cell_type": "code",
      "metadata": {
        "id": "qn3uwjG0xiQq",
        "colab_type": "code",
        "colab": {
          "base_uri": "https://localhost:8080/",
          "height": 168
        },
        "outputId": "cf8570ac-4fbf-4822-f2b8-55a4aae58b63"
      },
      "source": [
        "from sklearn.metrics import classification_report\n",
        "print(classification_report(y_test,pred))"
      ],
      "execution_count": null,
      "outputs": [
        {
          "output_type": "stream",
          "text": [
            "              precision    recall  f1-score   support\n",
            "\n",
            " goat animal       0.67      0.40      0.50         5\n",
            "sheep animal       0.57      0.80      0.67         5\n",
            "\n",
            "    accuracy                           0.60        10\n",
            "   macro avg       0.62      0.60      0.58        10\n",
            "weighted avg       0.62      0.60      0.58        10\n",
            "\n"
          ],
          "name": "stdout"
        }
      ]
    },
    {
      "cell_type": "code",
      "metadata": {
        "id": "sa1brSCbxpuK",
        "colab_type": "code",
        "colab": {
          "base_uri": "https://localhost:8080/",
          "height": 67
        },
        "outputId": "652ce3cd-df2a-411a-9fc4-a36129d10e0d"
      },
      "source": [
        "from sklearn.linear_model import LogisticRegression as LR\n",
        "m=LR()\n",
        "m.fit(x_train,y_train)\n",
        "pred=m.predict(x_test)\n",
        "pred"
      ],
      "execution_count": null,
      "outputs": [
        {
          "output_type": "execute_result",
          "data": {
            "text/plain": [
              "array(['sheep animal', 'sheep animal', 'sheep animal', 'sheep animal',\n",
              "       'sheep animal', 'sheep animal', 'goat animal', 'goat animal',\n",
              "       'sheep animal', 'sheep animal'], dtype=object)"
            ]
          },
          "metadata": {
            "tags": []
          },
          "execution_count": 29
        }
      ]
    },
    {
      "cell_type": "code",
      "metadata": {
        "id": "lhfN0vnax-gY",
        "colab_type": "code",
        "colab": {
          "base_uri": "https://localhost:8080/",
          "height": 168
        },
        "outputId": "1de64d07-7dab-4bfa-a6b1-b9b029e7a952"
      },
      "source": [
        "from sklearn.metrics import classification_report\n",
        "print(classification_report(y_test,pred))"
      ],
      "execution_count": null,
      "outputs": [
        {
          "output_type": "stream",
          "text": [
            "              precision    recall  f1-score   support\n",
            "\n",
            " goat animal       0.50      0.20      0.29         5\n",
            "sheep animal       0.50      0.80      0.62         5\n",
            "\n",
            "    accuracy                           0.50        10\n",
            "   macro avg       0.50      0.50      0.45        10\n",
            "weighted avg       0.50      0.50      0.45        10\n",
            "\n"
          ],
          "name": "stdout"
        }
      ]
    },
    {
      "cell_type": "code",
      "metadata": {
        "id": "ucYOZvsSyDa4",
        "colab_type": "code",
        "colab": {
          "base_uri": "https://localhost:8080/",
          "height": 202
        },
        "outputId": "b8ec8390-0037-4657-df1b-0392f4d49a24"
      },
      "source": [
        "from sklearn.metrics import classification_report,confusion_matrix\n",
        "print(classification_report(y_test,pred))\n",
        "print(confusion_matrix(y_test,pred))"
      ],
      "execution_count": null,
      "outputs": [
        {
          "output_type": "stream",
          "text": [
            "              precision    recall  f1-score   support\n",
            "\n",
            " goat animal       0.50      0.20      0.29         5\n",
            "sheep animal       0.50      0.80      0.62         5\n",
            "\n",
            "    accuracy                           0.50        10\n",
            "   macro avg       0.50      0.50      0.45        10\n",
            "weighted avg       0.50      0.50      0.45        10\n",
            "\n",
            "[[1 4]\n",
            " [1 4]]\n"
          ],
          "name": "stdout"
        }
      ]
    },
    {
      "cell_type": "code",
      "metadata": {
        "id": "LBhK5FCkyQRA",
        "colab_type": "code",
        "colab": {
          "base_uri": "https://localhost:8080/",
          "height": 50
        },
        "outputId": "552aff89-549d-4224-8680-1a301d5022ae"
      },
      "source": [
        "z = np.arange(1,25)\n",
        "z"
      ],
      "execution_count": null,
      "outputs": [
        {
          "output_type": "execute_result",
          "data": {
            "text/plain": [
              "array([ 1,  2,  3,  4,  5,  6,  7,  8,  9, 10, 11, 12, 13, 14, 15, 16, 17,\n",
              "       18, 19, 20, 21, 22, 23, 24])"
            ]
          },
          "metadata": {
            "tags": []
          },
          "execution_count": 32
        }
      ]
    },
    {
      "cell_type": "code",
      "metadata": {
        "id": "gAkqjnLWyVVT",
        "colab_type": "code",
        "colab": {
          "base_uri": "https://localhost:8080/",
          "height": 202
        },
        "outputId": "33cb258e-146d-4b89-834e-4eb30da778a9"
      },
      "source": [
        "from sklearn.model_selection import GridSearchCV\n",
        "param={'n_neighbors':z}   \n",
        "model = KNeighborsClassifier()\n",
        "model_grid = GridSearchCV(model,param)    \n",
        "model_grid.fit(x_train,y_train)"
      ],
      "execution_count": null,
      "outputs": [
        {
          "output_type": "execute_result",
          "data": {
            "text/plain": [
              "GridSearchCV(cv=None, error_score=nan,\n",
              "             estimator=KNeighborsClassifier(algorithm='auto', leaf_size=30,\n",
              "                                            metric='minkowski',\n",
              "                                            metric_params=None, n_jobs=None,\n",
              "                                            n_neighbors=5, p=2,\n",
              "                                            weights='uniform'),\n",
              "             iid='deprecated', n_jobs=None,\n",
              "             param_grid={'n_neighbors': array([ 1,  2,  3,  4,  5,  6,  7,  8,  9, 10, 11, 12, 13, 14, 15, 16, 17,\n",
              "       18, 19, 20, 21, 22, 23, 24])},\n",
              "             pre_dispatch='2*n_jobs', refit=True, return_train_score=False,\n",
              "             scoring=None, verbose=0)"
            ]
          },
          "metadata": {
            "tags": []
          },
          "execution_count": 33
        }
      ]
    },
    {
      "cell_type": "code",
      "metadata": {
        "id": "mZM5EX3xyX7J",
        "colab_type": "code",
        "colab": {
          "base_uri": "https://localhost:8080/",
          "height": 34
        },
        "outputId": "17234e21-a5af-45c8-cbd7-33cc9de872f1"
      },
      "source": [
        "model_grid.best_params_"
      ],
      "execution_count": null,
      "outputs": [
        {
          "output_type": "execute_result",
          "data": {
            "text/plain": [
              "{'n_neighbors': 2}"
            ]
          },
          "metadata": {
            "tags": []
          },
          "execution_count": 34
        }
      ]
    },
    {
      "cell_type": "code",
      "metadata": {
        "id": "yloIGvlzybXa",
        "colab_type": "code",
        "colab": {
          "base_uri": "https://localhost:8080/",
          "height": 67
        },
        "outputId": "ed276524-fb2c-40d7-c694-bf263e2dff09"
      },
      "source": [
        "from sklearn.neighbors import KNeighborsClassifier\n",
        "model=KNeighborsClassifier(n_neighbors=8)\n",
        "model.fit(x_train,y_train)\n",
        "pred=model.predict(x_test)\n",
        "pred"
      ],
      "execution_count": null,
      "outputs": [
        {
          "output_type": "execute_result",
          "data": {
            "text/plain": [
              "array(['sheep animal', 'sheep animal', 'sheep animal', 'sheep animal',\n",
              "       'sheep animal', 'sheep animal', 'goat animal', 'goat animal',\n",
              "       'sheep animal', 'sheep animal'], dtype=object)"
            ]
          },
          "metadata": {
            "tags": []
          },
          "execution_count": 35
        }
      ]
    },
    {
      "cell_type": "code",
      "metadata": {
        "id": "2NpvsMsoyiDN",
        "colab_type": "code",
        "colab": {
          "base_uri": "https://localhost:8080/",
          "height": 202
        },
        "outputId": "24a30920-d2c8-4cd3-ce94-02adc16bd7f9"
      },
      "source": [
        "from sklearn.metrics import classification_report,confusion_matrix\n",
        "print(classification_report(y_test,pred))\n",
        "print(confusion_matrix(y_test,pred))"
      ],
      "execution_count": null,
      "outputs": [
        {
          "output_type": "stream",
          "text": [
            "              precision    recall  f1-score   support\n",
            "\n",
            " goat animal       0.50      0.20      0.29         5\n",
            "sheep animal       0.50      0.80      0.62         5\n",
            "\n",
            "    accuracy                           0.50        10\n",
            "   macro avg       0.50      0.50      0.45        10\n",
            "weighted avg       0.50      0.50      0.45        10\n",
            "\n",
            "[[1 4]\n",
            " [1 4]]\n"
          ],
          "name": "stdout"
        }
      ]
    },
    {
      "cell_type": "code",
      "metadata": {
        "id": "cYIwFdKXyo-U",
        "colab_type": "code",
        "colab": {
          "base_uri": "https://localhost:8080/",
          "height": 67
        },
        "outputId": "f77b65a5-fa58-403a-fba8-59ecc51c40b7"
      },
      "source": [
        "from sklearn.linear_model import LogisticRegression as LR\n",
        "m=LR(class_weight='balanced')\n",
        "m.fit(x_train,y_train)\n",
        "pred=m.predict(x_test)\n",
        "pred"
      ],
      "execution_count": null,
      "outputs": [
        {
          "output_type": "execute_result",
          "data": {
            "text/plain": [
              "array(['sheep animal', 'sheep animal', 'sheep animal', 'sheep animal',\n",
              "       'sheep animal', 'sheep animal', 'goat animal', 'goat animal',\n",
              "       'sheep animal', 'sheep animal'], dtype=object)"
            ]
          },
          "metadata": {
            "tags": []
          },
          "execution_count": 37
        }
      ]
    },
    {
      "cell_type": "code",
      "metadata": {
        "id": "gbLtHvT9yxXy",
        "colab_type": "code",
        "colab": {
          "base_uri": "https://localhost:8080/",
          "height": 202
        },
        "outputId": "4b994376-999d-467e-ab75-3ef4d0bd6565"
      },
      "source": [
        "from sklearn.metrics import classification_report,confusion_matrix\n",
        "print(classification_report(y_test,pred))\n",
        "print(confusion_matrix(y_test,pred))"
      ],
      "execution_count": null,
      "outputs": [
        {
          "output_type": "stream",
          "text": [
            "              precision    recall  f1-score   support\n",
            "\n",
            " goat animal       0.50      0.20      0.29         5\n",
            "sheep animal       0.50      0.80      0.62         5\n",
            "\n",
            "    accuracy                           0.50        10\n",
            "   macro avg       0.50      0.50      0.45        10\n",
            "weighted avg       0.50      0.50      0.45        10\n",
            "\n",
            "[[1 4]\n",
            " [1 4]]\n"
          ],
          "name": "stdout"
        }
      ]
    },
    {
      "cell_type": "code",
      "metadata": {
        "id": "WQQuifD_zAVR",
        "colab_type": "code",
        "colab": {
          "base_uri": "https://localhost:8080/",
          "height": 67
        },
        "outputId": "ea742339-89de-4ddf-c1be-3f9b0b2adf6c"
      },
      "source": [
        "from sklearn import svm\n",
        "mod=svm.SVC()\n",
        "mod.fit(x_train,y_train)\n",
        "pred=mod.predict(x_test)\n",
        "\n",
        "pred"
      ],
      "execution_count": null,
      "outputs": [
        {
          "output_type": "execute_result",
          "data": {
            "text/plain": [
              "array(['sheep animal', 'sheep animal', 'goat animal', 'sheep animal',\n",
              "       'sheep animal', 'sheep animal', 'goat animal', 'goat animal',\n",
              "       'sheep animal', 'sheep animal'], dtype=object)"
            ]
          },
          "metadata": {
            "tags": []
          },
          "execution_count": 39
        }
      ]
    },
    {
      "cell_type": "code",
      "metadata": {
        "id": "JUTGmvZyzHW8",
        "colab_type": "code",
        "colab": {
          "base_uri": "https://localhost:8080/",
          "height": 202
        },
        "outputId": "454ef60a-896a-493f-b9bd-eefaabf37e5b"
      },
      "source": [
        "from sklearn.metrics import classification_report,confusion_matrix\n",
        "print(classification_report(y_test,pred))\n",
        "print(confusion_matrix(y_test,pred))"
      ],
      "execution_count": null,
      "outputs": [
        {
          "output_type": "stream",
          "text": [
            "              precision    recall  f1-score   support\n",
            "\n",
            " goat animal       0.67      0.40      0.50         5\n",
            "sheep animal       0.57      0.80      0.67         5\n",
            "\n",
            "    accuracy                           0.60        10\n",
            "   macro avg       0.62      0.60      0.58        10\n",
            "weighted avg       0.62      0.60      0.58        10\n",
            "\n",
            "[[2 3]\n",
            " [1 4]]\n"
          ],
          "name": "stdout"
        }
      ]
    },
    {
      "cell_type": "code",
      "metadata": {
        "id": "IEvos0EnzJ8-",
        "colab_type": "code",
        "colab": {
          "base_uri": "https://localhost:8080/",
          "height": 218
        },
        "outputId": "ee674777-47ae-4bc8-f17a-e6809f2d0cbb"
      },
      "source": [
        "from sklearn.ensemble import RandomForestClassifier as RFC\n",
        "m=RFC()\n",
        "m.fit(x_train,y_train)\n",
        "pred=m.predict(x_test)\n",
        "pred_prob=m.predict_proba(x_test)\n",
        "print(pred)\n",
        "print(pred_prob)"
      ],
      "execution_count": null,
      "outputs": [
        {
          "output_type": "stream",
          "text": [
            "['sheep animal' 'sheep animal' 'goat animal' 'sheep animal' 'sheep animal'\n",
            " 'sheep animal' 'goat animal' 'goat animal' 'sheep animal' 'sheep animal']\n",
            "[[0.24 0.76]\n",
            " [0.45 0.55]\n",
            " [0.67 0.33]\n",
            " [0.48 0.52]\n",
            " [0.06 0.94]\n",
            " [0.43 0.57]\n",
            " [0.88 0.12]\n",
            " [0.76 0.24]\n",
            " [0.36 0.64]\n",
            " [0.35 0.65]]\n"
          ],
          "name": "stdout"
        }
      ]
    },
    {
      "cell_type": "code",
      "metadata": {
        "id": "7_aVRyyKzP2f",
        "colab_type": "code",
        "colab": {
          "base_uri": "https://localhost:8080/",
          "height": 202
        },
        "outputId": "8e954c2c-f144-4746-8454-7ac424031538"
      },
      "source": [
        "from sklearn.metrics import classification_report,confusion_matrix\n",
        "print(classification_report(y_test,pred))\n",
        "print(confusion_matrix(y_test,pred))"
      ],
      "execution_count": null,
      "outputs": [
        {
          "output_type": "stream",
          "text": [
            "              precision    recall  f1-score   support\n",
            "\n",
            " goat animal       0.67      0.40      0.50         5\n",
            "sheep animal       0.57      0.80      0.67         5\n",
            "\n",
            "    accuracy                           0.60        10\n",
            "   macro avg       0.62      0.60      0.58        10\n",
            "weighted avg       0.62      0.60      0.58        10\n",
            "\n",
            "[[2 3]\n",
            " [1 4]]\n"
          ],
          "name": "stdout"
        }
      ]
    },
    {
      "cell_type": "code",
      "metadata": {
        "id": "ohU_94x3zapV",
        "colab_type": "code",
        "colab": {}
      },
      "source": [
        "import cv2\n",
        "import numpy as np\n",
        "from skimage.io import imread\n",
        "import matplotlib.pyplot as plt"
      ],
      "execution_count": null,
      "outputs": []
    },
    {
      "cell_type": "code",
      "metadata": {
        "id": "voJrqambzzIJ",
        "colab_type": "code",
        "colab": {
          "base_uri": "https://localhost:8080/",
          "height": 290
        },
        "outputId": "7449a5a4-783d-4e42-a1d4-e0fcba7eeb43"
      },
      "source": [
        "a=imread('https://i.ytimg.com/vi/9HrEYNe54fc/maxresdefault.jpg')\n",
        "print(a.shape)\n",
        "plt.imshow(a)\n",
        "new=[]\n",
        "imgresized = resize(a,(50,50,3))\n",
        "new.append(imgresized.flatten())\n",
        "new"
      ],
      "execution_count": null,
      "outputs": [
        {
          "output_type": "stream",
          "text": [
            "(720, 1280, 3)\n"
          ],
          "name": "stdout"
        },
        {
          "output_type": "execute_result",
          "data": {
            "text/plain": [
              "[array([0.0745098 , 0.15211765, 0.14509804, ..., 0.36160784, 0.42470588,\n",
              "        0.10196078])]"
            ]
          },
          "metadata": {
            "tags": []
          },
          "execution_count": 44
        },
        {
          "output_type": "display_data",
          "data": {
            "image/png": "[encoded data removed]",
            "text/plain": [
              "<Figure size 432x288 with 1 Axes>"
            ]
          },
          "metadata": {
            "tags": [],
            "needs_background": "light"
          }
        }
      ]
    },
    {
      "cell_type": "code",
      "metadata": {
        "id": "VeeTqlM30Jdu",
        "colab_type": "code",
        "colab": {}
      },
      "source": [
        "b=np.array(new)"
      ],
      "execution_count": null,
      "outputs": []
    },
    {
      "cell_type": "code",
      "metadata": {
        "id": "v_9U17Ta0eF2",
        "colab_type": "code",
        "colab": {
          "base_uri": "https://localhost:8080/",
          "height": 34
        },
        "outputId": "b1c37b92-32f5-4f02-eaf7-ff4304d03469"
      },
      "source": [
        "p=model.predict(b)    \n",
        "p"
      ],
      "execution_count": null,
      "outputs": [
        {
          "output_type": "execute_result",
          "data": {
            "text/plain": [
              "array(['goat animal'], dtype=object)"
            ]
          },
          "metadata": {
            "tags": []
          },
          "execution_count": 47
        }
      ]
    },
    {
      "cell_type": "code",
      "metadata": {
        "id": "zD3w8L990iID",
        "colab_type": "code",
        "colab": {}
      },
      "source": [
        ""
      ],
      "execution_count": null,
      "outputs": []
    }
  ]
}